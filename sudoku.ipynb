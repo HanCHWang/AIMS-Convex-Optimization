{
 "cells": [
  {
   "cell_type": "code",
   "execution_count": 4,
   "metadata": {
    "collapsed": true
   },
   "outputs": [],
   "source": [
    "import cvxpy\n",
    "import numpy as np\n",
    "import matplotlib.pylab as plt\n",
    "import pandas as pd\n",
    "import cvxpy as cp"
   ]
  },
  {
   "cell_type": "markdown",
   "metadata": {
    "collapsed": false
   },
   "source": [
    "## A complete code"
   ]
  },
  {
   "cell_type": "code",
   "execution_count": 5,
   "metadata": {
    "collapsed": false
   },
   "outputs": [],
   "source": [
    "R = cp.Variable((9,9),boolean=True)\n",
    "S = cp.Variable((9,9),boolean=True)\n",
    "T = cp.Variable((9,9),boolean=True)\n",
    "U = cp.Variable((9,9),boolean=True)\n",
    "V = cp.Variable((9,9),boolean=True)\n",
    "W = cp.Variable((9,9),boolean=True)\n",
    "X= cp.Variable((9,9),boolean=True)\n",
    "Y= cp.Variable((9,9),boolean=True)\n",
    "Z= cp.Variable((9,9),boolean=True)\n",
    "\n",
    "constraints = [\n",
    "                cp.sum(R, axis=0, keepdims=True) == 1, cp.sum(R, axis=1, keepdims=True) == 1,\n",
    "                   cp.sum(R[0:3,0:3]) == 1, cp.sum(R[0:3,3:6]) == 1, cp.sum(R[0:3,6:9]) == 1,\n",
    "                   cp.sum(R[3:6,0:3]) == 1, cp.sum(R[3:6,3:6]) == 1, cp.sum(R[3:6,6:9]) == 1,\n",
    "                   cp.sum(R[6:9,0:3]) == 1, cp.sum(R[6:9,3:6]) == 1, cp.sum(R[6:9,6:9]) == 1,\n",
    "               cp.sum(S, axis=0, keepdims=True) == 1, cp.sum(S, axis=1, keepdims=True) == 1,\n",
    "                   cp.sum(S[0:3,0:3]) == 1, cp.sum(S[0:3,3:6]) == 1, cp.sum(S[0:3,6:9]) == 1,\n",
    "                   cp.sum(S[3:6,0:3]) == 1, cp.sum(S[3:6,3:6]) == 1, cp.sum(S[3:6,6:9]) == 1,\n",
    "                   cp.sum(S[6:9,0:3]) == 1, cp.sum(S[6:9,3:6]) == 1, cp.sum(S[6:9,6:9]) == 1,\n",
    "               cp.sum(T, axis=0, keepdims=True) == 1, cp.sum(T, axis=1, keepdims=True) == 1,\n",
    "                   cp.sum(T[0:3,0:3]) == 1, cp.sum(T[0:3,3:6]) == 1, cp.sum(T[0:3,6:9]) == 1,\n",
    "                   cp.sum(T[3:6,0:3]) == 1, cp.sum(T[3:6,3:6]) == 1, cp.sum(T[3:6,6:9]) == 1,\n",
    "                   cp.sum(T[6:9,0:3]) == 1, cp.sum(T[6:9,3:6]) == 1, cp.sum(T[6:9,6:9]) == 1,\n",
    "               cp.sum(U, axis=0, keepdims=True) == 1, cp.sum(U, axis=1, keepdims=True) == 1,\n",
    "                   cp.sum(U[0:3,0:3]) == 1, cp.sum(U[0:3,3:6]) == 1, cp.sum(U[0:3,6:9]) == 1,\n",
    "                   cp.sum(U[3:6,0:3]) == 1, cp.sum(U[3:6,3:6]) == 1, cp.sum(U[3:6,6:9]) == 1,\n",
    "                   cp.sum(U[6:9,0:3]) == 1, cp.sum(U[6:9,3:6]) == 1, cp.sum(U[6:9,6:9]) == 1,\n",
    "               cp.sum(V, axis=0, keepdims=True) == 1, cp.sum(V, axis=1, keepdims=True) == 1,\n",
    "                   cp.sum(V[0:3,0:3]) == 1, cp.sum(V[0:3,3:6]) == 1, cp.sum(V[0:3,6:9]) == 1,\n",
    "                   cp.sum(V[3:6,0:3]) == 1, cp.sum(V[3:6,3:6]) == 1, cp.sum(V[3:6,6:9]) == 1,\n",
    "                   cp.sum(V[6:9,0:3]) == 1, cp.sum(V[6:9,3:6]) == 1, cp.sum(V[6:9,6:9]) == 1,\n",
    "               cp.sum(W, axis=0, keepdims=True) == 1, cp.sum(W, axis=1, keepdims=True) == 1,\n",
    "                   cp.sum(W[0:3,0:3]) == 1, cp.sum(W[0:3,3:6]) == 1, cp.sum(W[0:3,6:9]) == 1,\n",
    "                   cp.sum(W[3:6,0:3]) == 1, cp.sum(W[3:6,3:6]) == 1, cp.sum(W[3:6,6:9]) == 1,\n",
    "                   cp.sum(W[6:9,0:3]) == 1, cp.sum(W[6:9,3:6]) == 1, cp.sum(W[6:9,6:9]) == 1,\n",
    "               cp.sum(X, axis=0, keepdims=True) == 1, cp.sum(X, axis=1, keepdims=True) == 1,\n",
    "                   cp.sum(X[0:3,0:3]) == 1, cp.sum(X[0:3,3:6]) == 1, cp.sum(X[0:3,6:9]) == 1,\n",
    "                   cp.sum(X[3:6,0:3]) == 1, cp.sum(X[3:6,3:6]) == 1, cp.sum(X[3:6,6:9]) == 1,\n",
    "                   cp.sum(X[6:9,0:3]) == 1, cp.sum(X[6:9,3:6]) == 1, cp.sum(X[6:9,6:9]) == 1,\n",
    "               cp.sum(Y, axis=0, keepdims=True) == 1, cp.sum(Y, axis=1, keepdims=True) == 1,\n",
    "                   cp.sum(Y[0:3,0:3]) == 1, cp.sum(Y[0:3,3:6]) == 1, cp.sum(Y[0:3,6:9]) == 1,\n",
    "                   cp.sum(Y[3:6,0:3]) == 1, cp.sum(Y[3:6,3:6]) == 1, cp.sum(Y[3:6,6:9]) == 1,\n",
    "                   cp.sum(Y[6:9,0:3]) == 1, cp.sum(Y[6:9,3:6]) == 1, cp.sum(Y[6:9,6:9]) == 1,\n",
    "               cp.sum(Z, axis=0, keepdims=True) == 1, cp.sum(Z, axis=1, keepdims=True) == 1,\n",
    "                   cp.sum(Z[0:3,0:3]) == 1, cp.sum(Z[0:3,3:6]) == 1, cp.sum(Z[0:3,6:9]) == 1,\n",
    "                   cp.sum(Z[3:6,0:3]) == 1, cp.sum(Z[3:6,3:6]) == 1, cp.sum(Z[3:6,6:9]) == 1,\n",
    "                   cp.sum(Z[6:9,0:3]) == 1, cp.sum(Z[6:9,3:6]) == 1, cp.sum(Z[6:9,6:9]) == 1\n",
    "                ]\n",
    "\n",
    "for i in range(0,9):\n",
    "    for j in range(0,9):\n",
    "        constraints += [R[i,j] + S[i,j] + T[i,j] + U[i,j] + V[i,j] + W[i,j] + X[i,j] + Y[i,j] + Z[i,j] == 1]\n",
    "\n",
    "obj = cp.Minimize(cp.sum(cp.sum(R) + cp.sum(S) + cp.sum(T) + cp.sum(U) + cp.sum(V) + cp.sum(W) + cp.sum(X) + cp.sum(Y) + cp.sum(Z)))\n",
    "# obj = cp.Minimize(cp.sum(Z))"
   ]
  },
  {
   "cell_type": "code",
   "execution_count": 7,
   "metadata": {
    "collapsed": false
   },
   "outputs": [
    {
     "name": "stdout",
     "output_type": "stream",
     "text": [
      "status: None\n",
      "optimal value None\n"
     ]
    },
    {
     "ename": "TypeError",
     "evalue": "unsupported operand type(s) for *: 'NoneType' and 'int'",
     "output_type": "error",
     "traceback": [
      "\u001b[1;31m---------------------------------------------------------------------------\u001b[0m",
      "\u001b[1;31mTypeError\u001b[0m                                 Traceback (most recent call last)",
      "Cell \u001b[1;32mIn [7], line 6\u001b[0m\n\u001b[0;32m      4\u001b[0m \u001b[39mprint\u001b[39m(\u001b[39m\"\u001b[39m\u001b[39mstatus:\u001b[39m\u001b[39m\"\u001b[39m, prob\u001b[39m.\u001b[39mstatus)\n\u001b[0;32m      5\u001b[0m \u001b[39mprint\u001b[39m(\u001b[39m\"\u001b[39m\u001b[39moptimal value\u001b[39m\u001b[39m\"\u001b[39m, prob\u001b[39m.\u001b[39mvalue)\n\u001b[1;32m----> 6\u001b[0m \u001b[39mprint\u001b[39m(\u001b[39m\"\u001b[39m\u001b[39mfinal solution\u001b[39m\u001b[39m\"\u001b[39m, (R\u001b[39m.\u001b[39mvalue \u001b[39m+\u001b[39m S\u001b[39m.\u001b[39;49mvalue\u001b[39m*\u001b[39;49m\u001b[39m2\u001b[39;49m \u001b[39m+\u001b[39m T\u001b[39m.\u001b[39mvalue\u001b[39m*\u001b[39m\u001b[39m3\u001b[39m \u001b[39m+\u001b[39m U\u001b[39m.\u001b[39mvalue\u001b[39m*\u001b[39m\u001b[39m4\u001b[39m \u001b[39m+\u001b[39m V\u001b[39m.\u001b[39mvalue\u001b[39m*\u001b[39m\u001b[39m5\u001b[39m \u001b[39m+\u001b[39m W\u001b[39m.\u001b[39mvalue\u001b[39m*\u001b[39m\u001b[39m6\u001b[39m \u001b[39m+\u001b[39m X\u001b[39m.\u001b[39mvalue\u001b[39m*\u001b[39m\u001b[39m7\u001b[39m \u001b[39m+\u001b[39m Y\u001b[39m.\u001b[39mvalue\u001b[39m*\u001b[39m\u001b[39m8\u001b[39m \u001b[39m+\u001b[39m Z\u001b[39m.\u001b[39mvalue\u001b[39m*\u001b[39m\u001b[39m9\u001b[39m))\n",
      "\u001b[1;31mTypeError\u001b[0m: unsupported operand type(s) for *: 'NoneType' and 'int'"
     ]
    }
   ],
   "source": [
    "# Form and solve problem.\n",
    "prob = cp.Problem(obj, constraints)\n",
    "prob.solve # Returns the optimal value.\n",
    "print(\"status:\", prob.status)\n",
    "print(\"optimal value\", prob.value)\n",
    "print(\"final solution\", (R.value + S.value*2 + T.value*3 + U.value*4 + V.value*5 + W.value*6 + X.value*7 + Y.value*8 + Z.value*9))"
   ]
  },
  {
   "cell_type": "markdown",
   "metadata": {
    "collapsed": false
   },
   "source": [
    " ## A non-complete code"
   ]
  },
  {
   "cell_type": "code",
   "execution_count": 45,
   "metadata": {
    "collapsed": false
   },
   "outputs": [
    {
     "data": {
      "text/plain": [
       "405.0"
      ]
     },
     "execution_count": 45,
     "metadata": {},
     "output_type": "execute_result"
    }
   ],
   "source": [
    "from cvxpy import *\n",
    "import numpy as np\n",
    "\n",
    "x = Variable((9, 9), integer=True)\n",
    "obj = Minimize(sum(x)) #whatever, if the constrains are fulfilled it will be fine\n",
    "const = [x >= 1, #all values should be >= 1\n",
    "         x <= 9, #all values should be <= 9\n",
    "         sum(x, axis=0) == 45,  # sum of all rows should be 45\n",
    "         sum(x, axis=1) == 45,  # sum of all cols should be 45\n",
    "         sum(x[0:3, 0:3]) == 45, sum(x[0:3, 3:6]) == 45, #sum of all squares should be 45\n",
    "         sum(x[0:3, 6:9]) == 45,\n",
    "         sum(x[3:6, 0:3]) == 45, sum(x[3:6, 3:6]) == 45,\n",
    "         sum(x[3:6, 6:9]) == 45,\n",
    "         sum(x[6:9, 0:3]) == 45, sum(x[6:9, 3:6]) == 45,\n",
    "         sum(x[6:9, 6:9]) == 45,\n",
    "         x[0, 7] == 7, #the values themselves\n",
    "         x[0, 8] == 1,\n",
    "         x[1, 1] == 6,\n",
    "         x[1, 4] == 3,\n",
    "         x[2, 4] == 2,\n",
    "         x[3, 0] == 7,\n",
    "         x[3, 4] == 6,\n",
    "         x[3, 6] == 3,\n",
    "         x[4, 0] == 4,\n",
    "         x[4, 6] == 2,\n",
    "         x[5, 0] == 1,\n",
    "         x[5, 3] == 4,\n",
    "         x[6, 3] == 7,\n",
    "         x[6, 5] == 5,\n",
    "         x[6, 7] == 8,\n",
    "         x[7, 1] == 2,\n",
    "         x[8, 3] == 1]\n",
    "\n",
    "prob = Problem(objective=obj, constraints=const)\n",
    "# prob.solve(solver=cvxpy.GLPK_MI)"
   ]
  },
  {
   "cell_type": "code",
   "execution_count": 46,
   "metadata": {
    "collapsed": false
   },
   "outputs": [
    {
     "name": "stdout",
     "output_type": "stream",
     "text": [
      "status: optimal\n",
      "optimal value 405.0\n",
      "optimal var [[9. 7. 1. 1. 9. 2. 8. 7. 1.]\n",
      " [9. 6. 2. 9. 3. 5. 9. 1. 1.]\n",
      " [1. 1. 9. 5. 2. 9. 4. 9. 5.]\n",
      " [7. 9. 1. 8. 6. 1. 3. 1. 9.]\n",
      " [4. 9. 4. 1. 9. 4. 2. 6. 6.]\n",
      " [1. 1. 9. 4. 3. 9. 8. 1. 9.]\n",
      " [1. 1. 9. 7. 1. 5. 9. 8. 4.]\n",
      " [4. 2. 9. 9. 7. 1. 1. 3. 9.]\n",
      " [9. 9. 1. 1. 5. 9. 1. 9. 1.]]\n"
     ]
    }
   ],
   "source": [
    "print(\"status:\", prob.status)\n",
    "print(\"optimal value\", prob.value)\n",
    "print(\"optimal var\", x.value)"
   ]
  }
 ],
 "metadata": {
  "kernelspec": {
   "display_name": "Python 3.10.5 64-bit",
   "language": "python",
   "name": "python3"
  },
  "language_info": {
   "codemirror_mode": {
    "name": "ipython",
    "version": 3
   },
   "file_extension": ".py",
   "mimetype": "text/x-python",
   "name": "python",
   "nbconvert_exporter": "python",
   "pygments_lexer": "ipython3",
   "version": "3.10.5"
  },
  "vscode": {
   "interpreter": {
    "hash": "4e66eeb77fbb2ac1fbd4d938600c50a5bac1541202387dbe9af4f7767fccde75"
   }
  }
 },
 "nbformat": 4,
 "nbformat_minor": 0
}

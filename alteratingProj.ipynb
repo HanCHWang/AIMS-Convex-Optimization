{
 "cells": [
  {
   "cell_type": "markdown",
   "metadata": {
    "collapsed": false
   },
   "source": [
    "## Alternating Projection"
   ]
  },
  {
   "cell_type": "code",
   "execution_count": 140,
   "metadata": {
    "collapsed": false
   },
   "outputs": [],
   "source": [
    "from scipy.linalg import lu_factor, lu_solve\n",
    "import numpy as np\n",
    "import scipy as sp\n",
    "import matplotlib.pylab as plt\n",
    "import random"
   ]
  },
  {
   "cell_type": "code",
   "execution_count": 162,
   "metadata": {
    "collapsed": false
   },
   "outputs": [],
   "source": [
    "m = 100\n",
    "n = 500\n",
    "c = np.random.rand(n)\n",
    "A = np.random.rand(m,n)\n",
    "x0 = np.random.rand(n)\n",
    "zeroInd = random.sample(range(n),200)\n",
    "x0[zeroInd] = 0         #set some parts of x0 to 0\n",
    "b = A@x0\n",
    "#\n",
    "# generate KKT matrix\n",
    "arr_left_1 = np.concatenate([A, np.zeros((m,m)), np.zeros((m,n))], axis = 1)\n",
    "arr_left_2 = np.concatenate([np.zeros((n,n)), A.transpose(), np.identity(n)], axis = 1)\n",
    "arr_left_3 = np.concatenate([c, -b, np.zeros(n)])\n",
    "arr_right = np.concatenate([b, c, [0]])\n",
    "KKT = np.concatenate([arr_left_1, arr_left_2, np.reshape(arr_left_3,(1,-1))])\n",
    "projM_1 = np.concatenate([np.identity(n+m+n), KKT.transpose()],axis = 1)\n",
    "projM_2 = np.concatenate([KKT, np.zeros((m+n+1,n+m+1))], axis = 1)\n",
    "projM = np.concatenate([projM_1, projM_2], axis = 0)"
   ]
  },
  {
   "cell_type": "code",
   "execution_count": 163,
   "metadata": {
    "collapsed": false
   },
   "outputs": [],
   "source": [
    "# factorizing F\n",
    "lu, piv = lu_factor(projM)\n",
    "\n",
    "# Initialize working variable\n",
    "z = np.random.rand(n+m+n)\n",
    "maxiter = 10000\n",
    "distance = np.zeros(maxiter)\n"
   ]
  },
  {
   "cell_type": "code",
   "execution_count": 164,
   "metadata": {
    "collapsed": false
   },
   "outputs": [],
   "source": [
    "# main loop\n",
    "for i in range(maxiter):\n",
    "    tmp = lu_solve((lu, piv), np.concatenate([z, arr_right]))   # projection to KKT space\n",
    "    zt = tmp[0:n+m+n]\n",
    "    xnew = np.clip(zt[0:n],0,np.Inf)\n",
    "    Lambda = np.clip(zt[n+m:n+m+n],0,np.Inf)\n",
    "    z = np.concatenate([xnew, zt[n:n+m], Lambda])\n",
    "    distance[i] = np.linalg.norm(zt - z)"
   ]
  },
  {
   "cell_type": "code",
   "execution_count": 165,
   "metadata": {
    "collapsed": false
   },
   "outputs": [
    {
     "data": {
      "text/plain": [
       "[<matplotlib.lines.Line2D at 0x20e454afa00>]"
      ]
     },
     "execution_count": 165,
     "metadata": {},
     "output_type": "execute_result"
    },
    {
     "data": {
      "image/png": "[encoded data removed]",
      "text/plain": [
       "<Figure size 640x480 with 1 Axes>"
      ]
     },
     "metadata": {},
     "output_type": "display_data"
    }
   ],
   "source": [
    "plt.semilogy(range(maxiter),distance)"
   ]
  }
 ],
 "metadata": {
  "kernelspec": {
   "display_name": "Python 3.9.2 64-bit",
   "language": "python",
   "name": "python3"
  },
  "language_info": {
   "codemirror_mode": {
    "name": "ipython",
    "version": 2
   },
   "file_extension": ".py",
   "mimetype": "text/x-python",
   "name": "python",
   "nbconvert_exporter": "python",
   "pygments_lexer": "ipython2",
   "version": "3.9.2"
  },
  "vscode": {
   "interpreter": {
    "hash": "41c2a8b2e3f0c559bc20afc2e2f0a3d028edbe4847f454fce4b42a0b7c6b0ba0"
   }
  }
 },
 "nbformat": 4,
 "nbformat_minor": 0
}
